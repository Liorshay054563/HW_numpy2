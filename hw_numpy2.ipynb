{
 "cells": [
  {
   "cell_type": "code",
   "execution_count": 109,
   "id": "ec4ad41e-57c7-4c50-ba16-b9f030a6dc9f",
   "metadata": {},
   "outputs": [],
   "source": [
    "import numpy as np"
   ]
  },
  {
   "cell_type": "markdown",
   "id": "8a9b8f9d-509a-4593-9f4b-17f03226547a",
   "metadata": {},
   "source": [
    "#### 1"
   ]
  },
  {
   "cell_type": "code",
   "execution_count": 111,
   "id": "0b1ff482-d539-435a-8bce-9e5f87329b1f",
   "metadata": {},
   "outputs": [
    {
     "name": "stdout",
     "output_type": "stream",
     "text": [
      "[ 1  2  3  4  5  6  7  8  9 10 11 12 13 14 15 16]\n",
      "[[ 1  2  3  4]\n",
      " [ 5  6  7  8]\n",
      " [ 9 10 11 12]\n",
      " [13 14 15 16]]\n"
     ]
    }
   ],
   "source": [
    "nums_16 = np.arange(1,17)\n",
    "print(nums_16)\n",
    "re_num16 = nums_16.reshape(4,4)\n",
    "print(re_num16)"
   ]
  },
  {
   "cell_type": "markdown",
   "id": "48d2a5c6-cacb-49b3-90a5-dc9445e7a5e3",
   "metadata": {},
   "source": [
    "#### 2"
   ]
  },
  {
   "cell_type": "code",
   "execution_count": 113,
   "id": "4525b748-b5b4-4e5e-b45b-204b9e129624",
   "metadata": {},
   "outputs": [
    {
     "name": "stdout",
     "output_type": "stream",
     "text": [
      "[10 15 20 25 30 35 40 45]\n",
      "[[10 15 20 25]\n",
      " [30 35 40 45]]\n"
     ]
    }
   ],
   "source": [
    "nums_50 = np.arange(10,50,5)\n",
    "print(nums_50)\n",
    "nums_2_4 = nums_50.reshape(2,4)\n",
    "print(nums_2_4)"
   ]
  },
  {
   "cell_type": "markdown",
   "id": "95343739-926c-440c-bf57-e3a3ea0dad3c",
   "metadata": {},
   "source": [
    "#### 3"
   ]
  },
  {
   "cell_type": "code",
   "execution_count": 115,
   "id": "5dd836fa-8864-4150-8392-3d70fd3a5761",
   "metadata": {},
   "outputs": [
    {
     "name": "stdout",
     "output_type": "stream",
     "text": [
      "[[49  5 13]\n",
      " [40 73 74]\n",
      " [24 23  7]]\n",
      "min- 1 max - 5\n",
      "min- 5 max - 74\n"
     ]
    }
   ],
   "source": [
    "nums100 = np.random.randint(1,100,size=(3,3))\n",
    "print(nums100)\n",
    "print(f\"min- {nums100.argmin()} max - {nums100.argmax()}\") # the indexs\n",
    "print(f\"min- {nums100.min()} max - {nums100.max()}\") # the values (answer)"
   ]
  },
  {
   "cell_type": "code",
   "execution_count": 116,
   "id": "3f8c47fa-5200-432b-9f27-57e1d4af596f",
   "metadata": {},
   "outputs": [],
   "source": [
    "#### 4"
   ]
  },
  {
   "cell_type": "code",
   "execution_count": 117,
   "id": "b77165bd-fd2d-4377-8994-8eb1c72a8c62",
   "metadata": {},
   "outputs": [
    {
     "name": "stdout",
     "output_type": "stream",
     "text": [
      "[ 0  1  2  3  4  5  6  7  8  9 10 11 12 13 14 15 16 17 18 19 20]\n",
      " 1)- [0 1 2 3 4]\n",
      " 2)- [ 0  2  4  6  8 10 12 14 16 18 20]\n",
      " 3)- [20 19 18 17 16 15 14 13 12 11 10  9  8  7  6  5  4  3  2  1  0]\n"
     ]
    }
   ],
   "source": [
    "num0_20 = np.arange(0,21)\n",
    "print(num0_20)\n",
    "print(f\" 1)- {num0_20[0:5]}\")\n",
    "print(f\" 2)- {num0_20[0:21:2]}\")\n",
    "print(f\" 3)- {num0_20[::-1]}\")"
   ]
  },
  {
   "cell_type": "markdown",
   "id": "97a9b4f9-6110-4cbf-8cef-d2c5614831d5",
   "metadata": {},
   "source": [
    "#### 5"
   ]
  },
  {
   "cell_type": "code",
   "execution_count": 119,
   "id": "114b0946-4523-48e2-99e4-bc03363b229b",
   "metadata": {},
   "outputs": [
    {
     "name": "stdout",
     "output_type": "stream",
     "text": [
      "[[35 30  9 33 16]\n",
      " [43  9  9 21 46]\n",
      " [36 31  9 31  8]\n",
      " [29 13 18 50 20]]\n",
      "second line -[43  9  9 21 46]\n",
      "column 4 - 33\n",
      "column 4 - 21\n",
      "column 4 - 31\n",
      "column 4 - 50\n"
     ]
    }
   ],
   "source": [
    "nums1_50 = np.random.randint(1,51,size=(4,5))\n",
    "print(nums1_50)\n",
    "print(f\"second line -{nums1_50[1]}\")\n",
    "for lst in nums1_50:\n",
    "    print(f\"column 4 - {lst[3]}\")"
   ]
  },
  {
   "cell_type": "markdown",
   "id": "32b7314d-fb20-48eb-9528-c54230e2a4fb",
   "metadata": {},
   "source": [
    "#### 6"
   ]
  },
  {
   "cell_type": "code",
   "execution_count": 121,
   "id": "57148ad1-6f5a-4c0a-a70a-2c10edb9288d",
   "metadata": {},
   "outputs": [
    {
     "name": "stdout",
     "output_type": "stream",
     "text": [
      "[[ 4 64 68 57 83 92 20 33 84 84 32 74 60 36 82]]\n",
      "min- 0 max - 5\n"
     ]
    }
   ],
   "source": [
    "rand100 = np.random.randint(1,101,size=(1,15))\n",
    "print(rand100)\n",
    "print(f\"min- {rand100.argmin()} max - {rand100.argmax()}\") # the indexs"
   ]
  },
  {
   "cell_type": "code",
   "execution_count": 122,
   "id": "585b94ce-4702-417f-827d-96b4d052cb60",
   "metadata": {},
   "outputs": [],
   "source": [
    "np.save(\"answer6-randint100\",rand100)"
   ]
  },
  {
   "cell_type": "code",
   "execution_count": 123,
   "id": "ee2ea1d1-e0bb-489d-a40a-4d3cd1f6ef01",
   "metadata": {},
   "outputs": [
    {
     "name": "stdout",
     "output_type": "stream",
     "text": [
      "[[ 4 64 68 57 83 92 20 33 84 84 32 74 60 36 82]]\n",
      "[20 60]\n",
      "[ 4 64 68 57 83 92 84 84 74 60 82]\n"
     ]
    }
   ],
   "source": [
    "load_arr = np.load(\"answer6-randint100.npy\")\n",
    "print(load_arr)\n",
    "print(load_arr[(load_arr%5==0)])\n",
    "print(load_arr[(load_arr > 50) | (load_arr <10)])"
   ]
  },
  {
   "cell_type": "code",
   "execution_count": null,
   "id": "4c7cdc59-9d52-4c5a-bad9-d741d8596f9c",
   "metadata": {},
   "outputs": [],
   "source": []
  }
 ],
 "metadata": {
  "kernelspec": {
   "display_name": "Python [conda env:base] *",
   "language": "python",
   "name": "conda-base-py"
  },
  "language_info": {
   "codemirror_mode": {
    "name": "ipython",
    "version": 3
   },
   "file_extension": ".py",
   "mimetype": "text/x-python",
   "name": "python",
   "nbconvert_exporter": "python",
   "pygments_lexer": "ipython3",
   "version": "3.12.7"
  }
 },
 "nbformat": 4,
 "nbformat_minor": 5
}
